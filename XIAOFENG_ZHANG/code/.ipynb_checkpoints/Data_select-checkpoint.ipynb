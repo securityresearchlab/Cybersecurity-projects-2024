{
 "cells": [
  {
   "cell_type": "code",
   "execution_count": null,
   "id": "4c0cff71-271f-4bbd-85ff-8030423888c5",
   "metadata": {},
   "outputs": [],
   "source": [
    "import pandas as pd\n",
    "import os\n",
    "import random\n",
    "\n",
    "file_paths = [\n",
    "    \"../data/Friday-WorkingHours-Afternoon-DDos.pcap_ISCX.csv\",\n",
    "    \"../data/Friday-WorkingHours-Afternoon-PortScan.pcap_ISCX.csv\",\n",
    "    \"../data/Friday-WorkingHours-Morning.pcap_ISCX.csv\",\n",
    "    \"../data/Monday-WorkingHours.pcap_ISCX.csv\",\n",
    "    \"../data/Thursday-WorkingHours-Afternoon-Infilteration.pcap_ISCX.csv\",\n",
    "    \"../data/Thursday-WorkingHours-Morning-WebAttacks.pcap_ISCX.csv\",\n",
    "    \"../data/Tuesday-WorkingHours.pcap_ISCX.csv\",\n",
    "    \"../data/Wednesday-workingHours.pcap_ISCX.csv\"\n",
    "]\n",
    "\n",
    "# Destination folder for sampled data\n",
    "output_folder = \"../sample_data/\"\n",
    "os.makedirs(output_folder, exist_ok=True)\n",
    "\n",
    "# Sample 1000 rows from each file and save to the output folder\n",
    "for file_path in file_paths:\n",
    "    # Read the CSV file\n",
    "    df = pd.read_csv(file_path)\n",
    "    \n",
    "    # Check if the dataframe has more than 1000 rows\n",
    "    if len(df) > 1000:\n",
    "        df_sampled = df.sample(n=1000, random_state=42)\n",
    "    else:\n",
    "        df_sampled = df\n",
    "    \n",
    "    # Create the output file path\n",
    "    file_name = os.path.basename(file_path)\n",
    "    output_path = os.path.join(output_folder, file_name)\n",
    "    \n",
    "    # Save the sampled dataframe to CSV\n",
    "    df_sampled.to_csv(output_path, index=False)\n",
    "\n",
    "print(\"Sampling completed and saved to ../sample_data/\")"
   ]
  }
 ],
 "metadata": {
  "kernelspec": {
   "display_name": "Python 3 (ipykernel)",
   "language": "python",
   "name": "python3"
  },
  "language_info": {
   "codemirror_mode": {
    "name": "ipython",
    "version": 3
   },
   "file_extension": ".py",
   "mimetype": "text/x-python",
   "name": "python",
   "nbconvert_exporter": "python",
   "pygments_lexer": "ipython3",
   "version": "3.9.19"
  }
 },
 "nbformat": 4,
 "nbformat_minor": 5
}
